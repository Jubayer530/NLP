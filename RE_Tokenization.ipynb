import re                       #package regular expression
import nltk                     #package natural language tool-kit
nltk.download('punkt')          #download punkt for Tokenization

text = "I am Jubayer Ahamed."
text.split()                     #output will be ["I","am","Jubayer","Ahamed"]

text.replace("Ahamed","Hossain")  #output will be Jubayer Hossain

t = "I am {name}. My age is {age}."
t.format(name = "Jubayer Ahamed", age = 23)

x = "I am {0}. My age is {1}."
x.format("Jubayer",23)              #direct positional formation

x = "i AM JUBAYER."
x.upper()

z = re.match("I.",text)
print(z)

y = re.match("I$",text)
print(y)


sx = "I am Jubayer Ahamed. I am from Gopalganj. I am 23 years of age. My hooby is gardening, watching sports."
a = nltk.sent_tokenize(sx)            #Line tokenization
print(a)

b = nltk.word_tokenize(sx)            #Word tokenization
print(b)
